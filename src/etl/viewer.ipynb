{
 "cells": [
  {
   "cell_type": "markdown",
   "id": "fedb50fa",
   "metadata": {},
   "source": [
    "## View data in Datastore"
   ]
  },
  {
   "cell_type": "code",
   "execution_count": null,
   "id": "adbf63ec",
   "metadata": {},
   "outputs": [],
   "source": [
    "# Imports, logging, and ALL_TIME HIVE_SUMMARY+ENV_SUMMMARY data ingestion\n",
    "# Change the working directory to the parent directory\n",
    "import os\n",
    "from datetime import datetime\n",
    "import pandas as pd\n",
    "import numpy as np\n",
    "from IPython.display import display\n",
    "import matplotlib.pyplot as plt\n",
    "import seaborn as sns\n",
    "\n",
    "os.chdir(os.path.dirname(os.path.abspath(__name__)))\n",
    "os.chdir(\"..\")\n",
    "from etl import utils\n",
    "from sensor_core import configuration as root_cfg\n",
    "\n",
    "logger = root_cfg.setup_logger(\"etl\")"
   ]
  },
  {
   "cell_type": "code",
   "execution_count": null,
   "id": "a64ce78d",
   "metadata": {},
   "outputs": [],
   "source": [
    "# Get the "
   ]
  }
 ],
 "metadata": {
  "kernelspec": {
   "display_name": ".venv",
   "language": "python",
   "name": "python3"
  },
  "language_info": {
   "name": "python",
   "version": "3.11.11"
  }
 },
 "nbformat": 4,
 "nbformat_minor": 5
}
