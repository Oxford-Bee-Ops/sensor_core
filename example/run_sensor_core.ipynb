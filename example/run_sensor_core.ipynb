{
 "cells": [
  {
   "cell_type": "markdown",
   "metadata": {},
   "source": [
    "### Demo of running SensorCore\n",
    "You should run this on the RaspberryPi.\n",
    "\n",
    "If you have configured real physical sensors, this will fail if it is not run on the actual device."
   ]
  },
  {
   "cell_type": "code",
   "execution_count": null,
   "metadata": {},
   "outputs": [
    {
     "name": "stdout",
     "output_type": "stream",
     "text": [
      "Logging sensor_core to default file: C:\\Users\\bee-ops\\sensor-core\\logs\\default_20250321T153841771.log at level 20\n",
      "2025-03-21 15:38:41,771 sensor_core INFO   - Setting log level from 20 to 20\n",
      "Logging common to default file: C:\\Users\\bee-ops\\sensor-core\\logs\\default_20250321T153841771.log at level 20\n",
      "2025-03-21 15:38:41,790 sensor_core INFO   - sensor_core logging level=20\n"
     ]
    }
   ],
   "source": [
    "# Set the current working directory to the parent directory of this file\n",
    "import os\n",
    "\n",
    "from sensor_core import SensorCore\n",
    "from sensor_core.utils import utils\n",
    "from example import my_fleet_config\n",
    "\n",
    "os.chdir(os.path.dirname(os.path.abspath(__name__)))\n",
    "os.chdir(\"..\")\n",
    "\n",
    "logger = utils.setup_logger(\"sensor_core\")\n",
    "\n",
    "# Create a SensorCore object\n",
    "sc = SensorCore()"
   ]
  },
  {
   "cell_type": "code",
   "execution_count": null,
   "metadata": {},
   "outputs": [],
   "source": [
    "# Configure the SensorCore by passing the fully-qualified class reference to your inventory\n",
    "# The inventory class must be a subclass of core.configuration.Inventory\n",
    "sc.configure(my_fleet_config.Inventory)"
   ]
  },
  {
   "cell_type": "code",
   "execution_count": null,
   "metadata": {},
   "outputs": [],
   "source": [
    "# Check the status of the SensorCore\n",
    "logger.info(sc.status())"
   ]
  },
  {
   "cell_type": "code",
   "execution_count": null,
   "metadata": {},
   "outputs": [],
   "source": [
    "# If you've set auto_start=True in the system configuration, you can now just reboot the device\n",
    "# and it will come up running as an active sensor appliance.\n",
    "# Alternatively, you can start the SensorCore manually.\n",
    "sc.start()"
   ]
  },
  {
   "cell_type": "code",
   "execution_count": null,
   "metadata": {},
   "outputs": [],
   "source": [
    "# Stop the SensorCore\n",
    "sc.stop()"
   ]
  }
 ],
 "metadata": {
  "kernelspec": {
   "display_name": ".venv",
   "language": "python",
   "name": "python3"
  },
  "language_info": {
   "codemirror_mode": {
    "name": "ipython",
    "version": 3
   },
   "file_extension": ".py",
   "mimetype": "text/x-python",
   "name": "python",
   "nbconvert_exporter": "python",
   "pygments_lexer": "ipython3",
   "version": "3.11.9"
  }
 },
 "nbformat": 4,
 "nbformat_minor": 2
}
